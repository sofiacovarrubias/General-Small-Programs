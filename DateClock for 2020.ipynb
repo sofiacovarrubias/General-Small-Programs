{
 "cells": [
  {
   "cell_type": "code",
   "execution_count": 2,
   "metadata": {},
   "outputs": [],
   "source": [
    "import time #Start time is 1/1/1970 12:00:00\n",
    "def dt(d):\n",
    "    s = 1 \n",
    "    mn = 60*s\n",
    "    hr = 60*mn\n",
    "    day = 24*hr #simple conversions for later\n",
    "    dz = 12*366+38*365 #12 leap years since 1970, therefore giving number of days from 1/1/70-12/31/19\n",
    "    y = int(d-(day*dz)) #y is new time.time() with GMT of 12/31/19 11:59:59\n",
    "    #number of days in each month for 2020\n",
    "    jan = 31*day\n",
    "    feb = jan+29*day\n",
    "    mar = feb+31*day\n",
    "    apr = mar+30*day\n",
    "    may = apr+31*day\n",
    "    jun = may+30*day\n",
    "    jul = jun+31*day\n",
    "    aug = jul+31*day\n",
    "    sept = aug+30*day\n",
    "    octo =sept+31*day\n",
    "    nov = octo+30*day\n",
    "    dec = nov+31*day\n",
    "    if y<= dec:\n",
    "        if y<=jan:\n",
    "            a = 'January'  \n",
    "            z = y\n",
    "        elif feb>=y>jan:\n",
    "            a = 'February'\n",
    "            z = y-jan\n",
    "        elif mar>=y>feb:\n",
    "            a = 'March'\n",
    "            z = y-feb\n",
    "        elif apr>=y>mar:\n",
    "            a = 'April'\n",
    "            z = y-mar\n",
    "        elif may>=y>apr:\n",
    "            a = 'May'\n",
    "            z = y-apr\n",
    "        elif jun>=y>may:\n",
    "            a = 'June'\n",
    "            z = y-may\n",
    "        elif jul>=y>jun:\n",
    "            a = 'July'\n",
    "            z = y-jun\n",
    "        elif aug>=y>jul:\n",
    "            a = 'August'\n",
    "            z = y-jul\n",
    "        elif sept>=y>aug:\n",
    "            print('September')\n",
    "            z = y-aug\n",
    "        elif nov>=y>sept:\n",
    "            a = 'October'\n",
    "            z = y-sept\n",
    "        elif nov>=y>oct:\n",
    "            a = 'November'\n",
    "            z = y-octo\n",
    "        elif dec>=y>nov:\n",
    "            a = 'December'\n",
    "            z = y-nov\n",
    "    else:\n",
    "            print('Sorry this program only works for 2020')\n",
    "    b = z+(16*hr)\n",
    "    dyz = b//day\n",
    "    di = b%day\n",
    "    hrz = int((di//hr))\n",
    "    mnz = int((di%hr)//mn)\n",
    "    scz = int((di%hr)%mn)\n",
    "    print(a,str(dyz),', 2020 ',hrz,':',mnz,':',scz )"
   ]
  },
  {
   "cell_type": "code",
   "execution_count": 18,
   "metadata": {},
   "outputs": [
    {
     "name": "stdout",
     "output_type": "stream",
     "text": [
      "Would you like the time?yes\n",
      "February 7 , 2020  12 : 43 : 29\n"
     ]
    }
   ],
   "source": [
    "x = time.time()\n",
    "o  = input('Would you like the time?')\n",
    "if o=='yes':\n",
    "    dt(x)\n",
    "elif o == 'no':\n",
    "    print('Okay.')\n",
    "else:\n",
    "    print('Sorry. Could you use a \"yes\" or \"no?\"')\n",
    "    o  = input('Would you like the time?')\n",
    "    if o=='yes':\n",
    "        dt(x)\n",
    "    elif o == 'no':\n",
    "        print('Okay.')"
   ]
  }
 ],
 "metadata": {
  "kernelspec": {
   "display_name": "Python 3",
   "language": "python",
   "name": "python3"
  },
  "language_info": {
   "codemirror_mode": {
    "name": "ipython",
    "version": 3
   },
   "file_extension": ".py",
   "mimetype": "text/x-python",
   "name": "python",
   "nbconvert_exporter": "python",
   "pygments_lexer": "ipython3",
   "version": "3.7.0"
  }
 },
 "nbformat": 4,
 "nbformat_minor": 2
}
